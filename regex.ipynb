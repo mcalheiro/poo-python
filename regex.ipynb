{
 "cells": [
  {
   "cell_type": "markdown",
   "id": "2f1177f0",
   "metadata": {},
   "source": [
    "# Regular expressions\n",
    "https://docs.python.org/3/library/re.html"
   ]
  },
  {
   "cell_type": "code",
   "execution_count": 8,
   "id": "0895a938",
   "metadata": {},
   "outputs": [
    {
     "name": "stdout",
     "output_type": "stream",
     "text": [
      "<re.Match object; span=(11, 16), match='teste'>\n",
      "['teste', 'teste']\n",
      "Este eh um ABC de expressoes ABC regulares\n"
     ]
    }
   ],
   "source": [
    "import re\n",
    "\n",
    "string = 'Este eh um teste de expressoes teste regulares'\n",
    "\n",
    "print(re.search(r'teste', string))\n",
    "print(re.findall(r'teste', string))\n",
    "print(re.sub(r'teste', 'ABC', string))"
   ]
  },
  {
   "cell_type": "markdown",
   "id": "2fa856d4",
   "metadata": {},
   "source": [
    "## Complile"
   ]
  },
  {
   "cell_type": "code",
   "execution_count": 12,
   "id": "eb81a2d9",
   "metadata": {},
   "outputs": [
    {
     "name": "stdout",
     "output_type": "stream",
     "text": [
      "<re.Match object; span=(11, 16), match='teste'>\n",
      "['teste', 'teste']\n",
      "Este eh um DEF de expressoes DEF regulares\n"
     ]
    }
   ],
   "source": [
    "import re\n",
    "\n",
    "string = 'Este eh um teste de expressoes teste regulares'\n",
    "\n",
    "regexp = re.compile(r'teste')\n",
    "print(re.search(regexp, string))\n",
    "print(re.findall(regexp, string))\n",
    "print(re.sub(regexp, 'DEF', string))"
   ]
  },
  {
   "cell_type": "markdown",
   "id": "fc9c2d64",
   "metadata": {},
   "source": [
    "## Meta caracteres: . ^ $ * + ? { } [ ] \\ | ( )"
   ]
  },
  {
   "cell_type": "code",
   "execution_count": 11,
   "id": "03148b5b",
   "metadata": {},
   "outputs": [
    {
     "name": "stdout",
     "output_type": "stream",
     "text": [
      "['João', 'Maria', 'adultos', 'Maria']\n",
      "['João', 'Maria', 'joão', 'Maria']\n",
      "['João', 'Maria', 'joão', 'maria', 'Maria']\n",
      "['maria']\n",
      "['João', 'Maria', 'joão', 'maria', 'Maria', 'ooão']\n",
      "['João', 'Maria', 'joão', 'maria', 'Maria']\n"
     ]
    }
   ],
   "source": [
    "# | OU\n",
    "# . Qualquer caractere (com exceção da quebra de linha)\n",
    "# [] conjunto de caracteres\n",
    "\n",
    "import re\n",
    "\n",
    "texto = '''\n",
    "João trouxe    flores para sua amada namorada em 10 de janeiro de 1970,\n",
    "Maria era o nome dela.\n",
    "\n",
    "\n",
    "Foi um ano excelente na vida de joão. Teve 5 filhos, todos adultos atualmente.\n",
    "maria, hoje sua esposa, ainda faz aquele café com pão de queijo nas tardes de\n",
    "domingo. Também né! Sendo a boa mineira que é, nunca esquece seu famoso\n",
    "pão de queijo.\n",
    "Não canso de ouvir a Maria:\n",
    "\"Joooooooooãooooooo, o café tá prontinho aqui. Veeemm\"!\n",
    "'''\n",
    "\n",
    "print(re.findall(r'João|Maria|ad....s', texto))\n",
    "print(re.findall(r'João|joão|Maria', texto))\n",
    "print(re.findall(r'[Jj]oão|[Mm]aria', texto))\n",
    "print(re.findall(r'[a-z]aria', texto))\n",
    "print(re.findall(r'[a-zA-Z0-9_.]aria|[a-zA-Z0-9]oão', texto))\n",
    "print(re.findall(r'jOãO|mAriA', texto, flags=re.IGNORECASE))"
   ]
  },
  {
   "cell_type": "code",
   "execution_count": null,
   "id": "69c19014",
   "metadata": {},
   "outputs": [],
   "source": []
  }
 ],
 "metadata": {
  "kernelspec": {
   "display_name": "Python 3 (ipykernel)",
   "language": "python",
   "name": "python3"
  },
  "language_info": {
   "codemirror_mode": {
    "name": "ipython",
    "version": 3
   },
   "file_extension": ".py",
   "mimetype": "text/x-python",
   "name": "python",
   "nbconvert_exporter": "python",
   "pygments_lexer": "ipython3",
   "version": "3.8.10"
  }
 },
 "nbformat": 4,
 "nbformat_minor": 5
}
