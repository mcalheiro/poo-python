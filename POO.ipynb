{
 "cells": [
  {
   "cell_type": "markdown",
   "id": "9b298b95",
   "metadata": {},
   "source": [
    "# 01. Problema do paradigma procedural"
   ]
  },
  {
   "cell_type": "code",
   "execution_count": null,
   "id": "b4bacf44",
   "metadata": {},
   "outputs": [],
   "source": [
    "# Inserir codigos aqui"
   ]
  },
  {
   "cell_type": "code",
   "execution_count": null,
   "id": "0feaaa21",
   "metadata": {},
   "outputs": [],
   "source": [
    "from teste import *"
   ]
  },
  {
   "cell_type": "code",
   "execution_count": null,
   "id": "dd57112d",
   "metadata": {},
   "outputs": [],
   "source": [
    "conta = cria_conta(123, 'mauricio', 100.0, 1000.0)"
   ]
  },
  {
   "cell_type": "code",
   "execution_count": null,
   "id": "f907edbc",
   "metadata": {},
   "outputs": [],
   "source": [
    "extrato(conta)"
   ]
  },
  {
   "cell_type": "code",
   "execution_count": null,
   "id": "529ef991",
   "metadata": {},
   "outputs": [],
   "source": [
    "deposita(conta, 300)"
   ]
  },
  {
   "cell_type": "code",
   "execution_count": null,
   "id": "a53f830c",
   "metadata": {},
   "outputs": [],
   "source": [
    "extrato(conta)"
   ]
  },
  {
   "cell_type": "code",
   "execution_count": null,
   "id": "425f0d05",
   "metadata": {},
   "outputs": [],
   "source": [
    "saca(conta, 55)"
   ]
  },
  {
   "cell_type": "code",
   "execution_count": null,
   "id": "6eb70ae6",
   "metadata": {},
   "outputs": [],
   "source": [
    "extrato(conta)"
   ]
  },
  {
   "cell_type": "markdown",
   "id": "e406a45e",
   "metadata": {},
   "source": [
    "# 02. Classes e objetos"
   ]
  },
  {
   "cell_type": "code",
   "execution_count": null,
   "id": "04059060",
   "metadata": {},
   "outputs": [],
   "source": [
    "# Inserir codigos aqui"
   ]
  },
  {
   "cell_type": "code",
   "execution_count": null,
   "id": "cf69b3a2",
   "metadata": {},
   "outputs": [],
   "source": [
    "from conta import Conta"
   ]
  },
  {
   "cell_type": "code",
   "execution_count": null,
   "id": "df340c77",
   "metadata": {},
   "outputs": [],
   "source": [
    "# referencia\n",
    "conta1 = Conta(123, 'Mauricio', 55.0, 1000.0)\n",
    "conta2 = Conta(456, 'Maurice', 45.0, 1000.0)"
   ]
  },
  {
   "cell_type": "code",
   "execution_count": null,
   "id": "a109e68b",
   "metadata": {},
   "outputs": [],
   "source": [
    "conta1.numero"
   ]
  },
  {
   "cell_type": "code",
   "execution_count": null,
   "id": "96c41bad",
   "metadata": {},
   "outputs": [],
   "source": [
    "conta2.titular"
   ]
  },
  {
   "cell_type": "code",
   "execution_count": null,
   "id": "6b614fc7",
   "metadata": {},
   "outputs": [],
   "source": [
    "conta1.saldo"
   ]
  },
  {
   "cell_type": "code",
   "execution_count": null,
   "id": "e71fef64",
   "metadata": {},
   "outputs": [],
   "source": [
    "conta2.limite"
   ]
  },
  {
   "cell_type": "markdown",
   "id": "b06f7218",
   "metadata": {},
   "source": [
    "# 03. Implementando metodos"
   ]
  },
  {
   "cell_type": "code",
   "execution_count": null,
   "id": "85130780",
   "metadata": {},
   "outputs": [],
   "source": [
    "# Inserir codigos aqui\n",
    "\n"
   ]
  },
  {
   "cell_type": "code",
   "execution_count": 1,
   "id": "74d1494b",
   "metadata": {},
   "outputs": [
    {
     "name": "stdout",
     "output_type": "stream",
     "text": [
      "Construindo objeto <conta.Conta object at 0x7f7c541fac70>\n",
      "Construindo objeto <conta.Conta object at 0x7f7c5625b700>\n"
     ]
    }
   ],
   "source": [
    "from conta import Conta\n",
    "conta1 = Conta(123, 'Mauricio', 55.0, 1000.0)\n",
    "conta2 = Conta(456, 'Maurice', 45.0, 1000.0)"
   ]
  },
  {
   "cell_type": "code",
   "execution_count": 2,
   "id": "e9f9da4f",
   "metadata": {},
   "outputs": [
    {
     "name": "stdout",
     "output_type": "stream",
     "text": [
      "Saldo: R$ 55.00\n",
      "Saldo: R$ 45.00\n"
     ]
    },
    {
     "data": {
      "text/plain": [
       "(None, None)"
      ]
     },
     "execution_count": 2,
     "metadata": {},
     "output_type": "execute_result"
    }
   ],
   "source": [
    "conta1.extrato(), conta2.extrato()"
   ]
  },
  {
   "cell_type": "code",
   "execution_count": 3,
   "id": "faf12221",
   "metadata": {},
   "outputs": [
    {
     "name": "stdout",
     "output_type": "stream",
     "text": [
      "Depositou: R$ 2.00 na conta de Mauricio. \n",
      "Novo saldo: R$57.00\n"
     ]
    }
   ],
   "source": [
    "conta1.deposita(2.0)"
   ]
  },
  {
   "cell_type": "code",
   "execution_count": 4,
   "id": "5e59b3ee",
   "metadata": {},
   "outputs": [
    {
     "name": "stdout",
     "output_type": "stream",
     "text": [
      "Sacou: R$ 2.00 da conta de Maurice. \n",
      "Novo saldo: R$43.00\n"
     ]
    }
   ],
   "source": [
    "conta2.saca(2.0)"
   ]
  },
  {
   "cell_type": "code",
   "execution_count": 5,
   "id": "4e9d76ce",
   "metadata": {},
   "outputs": [
    {
     "name": "stdout",
     "output_type": "stream",
     "text": [
      "Saldo: R$ 57.00\n",
      "Saldo: R$ 43.00\n"
     ]
    },
    {
     "data": {
      "text/plain": [
       "(None, None)"
      ]
     },
     "execution_count": 5,
     "metadata": {},
     "output_type": "execute_result"
    }
   ],
   "source": [
    "conta1.extrato(), conta2.extrato()"
   ]
  },
  {
   "cell_type": "code",
   "execution_count": 6,
   "id": "cb412844",
   "metadata": {},
   "outputs": [
    {
     "name": "stdout",
     "output_type": "stream",
     "text": [
      "22/01/1997\n"
     ]
    }
   ],
   "source": [
    "from datas import Data\n",
    "\n",
    "d = Data(22, 1, 1997)\n",
    "d.formatada()"
   ]
  },
  {
   "cell_type": "markdown",
   "id": "26509572",
   "metadata": {},
   "source": [
    "# 04. Encapsulamento "
   ]
  },
  {
   "cell_type": "code",
   "execution_count": 7,
   "id": "d4560843",
   "metadata": {
    "scrolled": true
   },
   "outputs": [
    {
     "name": "stdout",
     "output_type": "stream",
     "text": [
      "Sacou: R$ 10.00 da conta de Mauricio. \n",
      "Novo saldo: R$47.00\n",
      "Depositou: R$ 10.00 na conta de Maurice. \n",
      "Novo saldo: R$53.00\n",
      "R$ 10.00 transferido da conta de Mauricio para Maurice\n"
     ]
    }
   ],
   "source": [
    "conta1.transfere(10.0, conta2)"
   ]
  },
  {
   "cell_type": "markdown",
   "id": "faf83db4",
   "metadata": {},
   "source": [
    "# 05. Usando propriedades"
   ]
  },
  {
   "cell_type": "code",
   "execution_count": 8,
   "id": "88e03a43",
   "metadata": {},
   "outputs": [],
   "source": [
    "# escrever aqui\n",
    "\n"
   ]
  },
  {
   "cell_type": "code",
   "execution_count": 1,
   "id": "41b41ab0",
   "metadata": {},
   "outputs": [
    {
     "name": "stdout",
     "output_type": "stream",
     "text": [
      "Construindo objeto <conta.Conta object at 0x7f5e663494c0>\n"
     ]
    }
   ],
   "source": [
    "from conta import Conta\n",
    "conta1 = Conta(123, 'Mauricio', 55.0, 1000.0)"
   ]
  },
  {
   "cell_type": "code",
   "execution_count": 2,
   "id": "34b17406",
   "metadata": {},
   "outputs": [
    {
     "ename": "AttributeError",
     "evalue": "'Conta' object has no attribute 'get_limite'",
     "output_type": "error",
     "traceback": [
      "\u001b[0;31m---------------------------------------------------------------------------\u001b[0m",
      "\u001b[0;31mAttributeError\u001b[0m                            Traceback (most recent call last)",
      "Input \u001b[0;32mIn [2]\u001b[0m, in \u001b[0;36m<cell line: 1>\u001b[0;34m()\u001b[0m\n\u001b[0;32m----> 1\u001b[0m \u001b[43mconta1\u001b[49m\u001b[38;5;241;43m.\u001b[39;49m\u001b[43mget_limite\u001b[49m()\n",
      "\u001b[0;31mAttributeError\u001b[0m: 'Conta' object has no attribute 'get_limite'"
     ]
    }
   ],
   "source": [
    "conta1.get_limite()"
   ]
  },
  {
   "cell_type": "code",
   "execution_count": 3,
   "id": "1ac0b2aa",
   "metadata": {},
   "outputs": [
    {
     "ename": "AttributeError",
     "evalue": "'Conta' object has no attribute 'get_titular'",
     "output_type": "error",
     "traceback": [
      "\u001b[0;31m---------------------------------------------------------------------------\u001b[0m",
      "\u001b[0;31mAttributeError\u001b[0m                            Traceback (most recent call last)",
      "Input \u001b[0;32mIn [3]\u001b[0m, in \u001b[0;36m<cell line: 1>\u001b[0;34m()\u001b[0m\n\u001b[0;32m----> 1\u001b[0m \u001b[43mconta1\u001b[49m\u001b[38;5;241;43m.\u001b[39;49m\u001b[43mget_titular\u001b[49m()\n",
      "\u001b[0;31mAttributeError\u001b[0m: 'Conta' object has no attribute 'get_titular'"
     ]
    }
   ],
   "source": [
    "conta1.get_titular()"
   ]
  },
  {
   "cell_type": "code",
   "execution_count": 4,
   "id": "4ab16031",
   "metadata": {},
   "outputs": [
    {
     "ename": "AttributeError",
     "evalue": "'Conta' object has no attribute 'set_limite'",
     "output_type": "error",
     "traceback": [
      "\u001b[0;31m---------------------------------------------------------------------------\u001b[0m",
      "\u001b[0;31mAttributeError\u001b[0m                            Traceback (most recent call last)",
      "Input \u001b[0;32mIn [4]\u001b[0m, in \u001b[0;36m<cell line: 1>\u001b[0;34m()\u001b[0m\n\u001b[0;32m----> 1\u001b[0m \u001b[43mconta1\u001b[49m\u001b[38;5;241;43m.\u001b[39;49m\u001b[43mset_limite\u001b[49m(\u001b[38;5;241m2000.0\u001b[39m)\n",
      "\u001b[0;31mAttributeError\u001b[0m: 'Conta' object has no attribute 'set_limite'"
     ]
    }
   ],
   "source": [
    "conta1.set_limite(2000.0)"
   ]
  },
  {
   "cell_type": "code",
   "execution_count": 5,
   "id": "530eff94",
   "metadata": {},
   "outputs": [
    {
     "ename": "AttributeError",
     "evalue": "'Conta' object has no attribute 'get_limite'",
     "output_type": "error",
     "traceback": [
      "\u001b[0;31m---------------------------------------------------------------------------\u001b[0m",
      "\u001b[0;31mAttributeError\u001b[0m                            Traceback (most recent call last)",
      "Input \u001b[0;32mIn [5]\u001b[0m, in \u001b[0;36m<cell line: 1>\u001b[0;34m()\u001b[0m\n\u001b[0;32m----> 1\u001b[0m \u001b[43mconta1\u001b[49m\u001b[38;5;241;43m.\u001b[39;49m\u001b[43mget_limite\u001b[49m()\n",
      "\u001b[0;31mAttributeError\u001b[0m: 'Conta' object has no attribute 'get_limite'"
     ]
    }
   ],
   "source": [
    "conta1.get_limite()"
   ]
  },
  {
   "cell_type": "code",
   "execution_count": 6,
   "id": "5e35a89b",
   "metadata": {},
   "outputs": [
    {
     "data": {
      "text/plain": [
       "1000.0"
      ]
     },
     "execution_count": 6,
     "metadata": {},
     "output_type": "execute_result"
    }
   ],
   "source": [
    "conta1.limite"
   ]
  },
  {
   "cell_type": "code",
   "execution_count": 7,
   "id": "2769c606",
   "metadata": {},
   "outputs": [
    {
     "data": {
      "text/plain": [
       "'Mauricio'"
      ]
     },
     "execution_count": 7,
     "metadata": {},
     "output_type": "execute_result"
    }
   ],
   "source": [
    "conta1.titular"
   ]
  },
  {
   "cell_type": "code",
   "execution_count": 8,
   "id": "57e145b3",
   "metadata": {},
   "outputs": [],
   "source": [
    "conta1.limite = 2000.0"
   ]
  },
  {
   "cell_type": "code",
   "execution_count": 10,
   "id": "b0939604",
   "metadata": {},
   "outputs": [
    {
     "data": {
      "text/plain": [
       "2000.0"
      ]
     },
     "execution_count": 10,
     "metadata": {},
     "output_type": "execute_result"
    }
   ],
   "source": [
    "conta1.limite"
   ]
  },
  {
   "cell_type": "markdown",
   "id": "406245c1",
   "metadata": {},
   "source": [
    "# 06. Metodos privados e estaticos"
   ]
  },
  {
   "cell_type": "code",
   "execution_count": null,
   "id": "7a929886",
   "metadata": {},
   "outputs": [],
   "source": []
  }
 ],
 "metadata": {
  "kernelspec": {
   "display_name": "Python 3 (ipykernel)",
   "language": "python",
   "name": "python3"
  },
  "language_info": {
   "codemirror_mode": {
    "name": "ipython",
    "version": 3
   },
   "file_extension": ".py",
   "mimetype": "text/x-python",
   "name": "python",
   "nbconvert_exporter": "python",
   "pygments_lexer": "ipython3",
   "version": "3.8.10"
  }
 },
 "nbformat": 4,
 "nbformat_minor": 5
}
